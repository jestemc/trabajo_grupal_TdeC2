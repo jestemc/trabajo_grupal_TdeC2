{
 "cells": [
  {
   "cell_type": "markdown",
   "metadata": {},
   "source": [
    "# Trabajo grupal\n"
   ]
  },
  {
   "cell_type": "code",
   "execution_count": 639,
   "metadata": {},
   "outputs": [],
   "source": [
    "import numpy as np # Funciones matemáticas y constantes \n",
    "from iapws import IAPWS97 # Propiedades de agua y vapor saturados.\n",
    "\n",
    "def agua_saturada(T):\n",
    "    # Devuelve un objeto con las propiedades del agua saturada a temperatura T en °C.\n",
    "    return IAPWS97(T=T+273, x=0) # Calidad 0% -> Agua saturada"
   ]
  },
  {
   "cell_type": "markdown",
   "metadata": {},
   "source": [
    "## Datos"
   ]
  },
  {
   "cell_type": "markdown",
   "metadata": {},
   "source": [
    "#### Datos del flujo de leche"
   ]
  },
  {
   "cell_type": "code",
   "execution_count": 640,
   "metadata": {},
   "outputs": [],
   "source": [
    "G_leche = 4000 # kg/h\n",
    "\n",
    "T1 = 4 # °C\n",
    "T2 = 58 # °C\n",
    "\n",
    "u_max = 0.7 # m/s"
   ]
  },
  {
   "cell_type": "markdown",
   "metadata": {},
   "source": [
    "#### Datos del calentador\n",
    "Intercambiador de tubos y carcasa."
   ]
  },
  {
   "cell_type": "code",
   "execution_count": 641,
   "metadata": {},
   "outputs": [
    {
     "name": "stdout",
     "output_type": "stream",
     "text": [
      "h_ext = 4,304 kcal/hm^2°C\n"
     ]
    }
   ],
   "source": [
    "n_pasos_tubos = 6\n",
    "n_pasos_carcasa = 1\n",
    "\n",
    "D_int_tubos = 3/4 * 25.4e-3 # m\n",
    "\n",
    "W_a_kcal_por_h = 60**2 / 4.182e3\n",
    "h_ext = 5000 * W_a_kcal_por_h # kcal/hm^2°C\n",
    "\n",
    "print(f'h_ext = {h_ext:,.0f} kcal/hm^2°C')"
   ]
  },
  {
   "cell_type": "code",
   "execution_count": 642,
   "metadata": {},
   "outputs": [
    {
     "name": "stdout",
     "output_type": "stream",
     "text": [
      "G_agua = 5,406 kg/h\n"
     ]
    }
   ],
   "source": [
    "Te_agua = 90 # °C\n",
    "\n",
    "G_agua = 5.6 * agua_saturada(Te_agua).rho # kg/h\n",
    "\n",
    "print(f'G_agua = {G_agua:,.0f} kg/h')"
   ]
  },
  {
   "cell_type": "markdown",
   "metadata": {},
   "source": [
    "#### Suposiciones generales\n",
    "Para el rango de temperaturas del ejercicio se considera despreciable la variación $C_p$ del agua con la temperatura y se asume:\n",
    "$$C_p = 1 kcal/kg°C$$\n",
    "Debido a esto si $C$ y $G$ son los valores numéricos de la capacitancia térmica y el gasto de fluido repectivamente, se tiene que:\n",
    "$$ C = G $$\n",
    "En los cálculos que siguen se usa indistintamente $G$ en lugar de $C$, considerando que la conversión de unidades está implícita."
   ]
  },
  {
   "cell_type": "markdown",
   "metadata": {},
   "source": [
    "### Parte A\n",
    "Problema de diseño.  \n",
    "Leche pasando por tubos y agua por carcasa."
   ]
  },
  {
   "cell_type": "code",
   "execution_count": 643,
   "metadata": {},
   "outputs": [],
   "source": [
    "T3 = 72 # °C (Dato)"
   ]
  },
  {
   "cell_type": "code",
   "execution_count": 644,
   "metadata": {},
   "outputs": [],
   "source": [
    "Tm_leche = (T2 + T3) / 2\n",
    "\n",
    "leche = agua_saturada(Tm_leche) # Propiedades de la leche asimilables a las del agua"
   ]
  },
  {
   "cell_type": "markdown",
   "metadata": {},
   "source": [
    "Del balance al agua caliente se tiene que la temperatura de salida es:"
   ]
  },
  {
   "cell_type": "code",
   "execution_count": 645,
   "metadata": {},
   "outputs": [
    {
     "name": "stdout",
     "output_type": "stream",
     "text": [
      "Ts_agua = 71.1 °C\n"
     ]
    }
   ],
   "source": [
    "Ts_agua = Te_agua - G_agua / G_leche * (T3 - T2)\n",
    "\n",
    "print(f'Ts_agua = {Ts_agua:.1f} °C')"
   ]
  },
  {
   "cell_type": "markdown",
   "metadata": {},
   "source": [
    "De los datos del calentador se calculan la cantidad de tubos por paso, la cantidad total de tubos y la velocidad de la leche dentro de los mismos:"
   ]
  },
  {
   "cell_type": "code",
   "execution_count": 646,
   "metadata": {},
   "outputs": [
    {
     "name": "stdout",
     "output_type": "stream",
     "text": [
      "n_tubos_por_paso = 6\n"
     ]
    }
   ],
   "source": [
    "A_int_tubos = np.pi / 4 * D_int_tubos**2\n",
    "\n",
    "G_max_por_tubo = A_int_tubos * u_max * leche.rho * 60**2\n",
    "\n",
    "n_tubos_por_paso = np.ceil(G_leche / G_max_por_tubo)\n",
    "\n",
    "print(f'n_tubos_por_paso = {n_tubos_por_paso:.0f}')"
   ]
  },
  {
   "cell_type": "code",
   "execution_count": 647,
   "metadata": {},
   "outputs": [
    {
     "name": "stdout",
     "output_type": "stream",
     "text": [
      "n_total_tubos = 36\n"
     ]
    }
   ],
   "source": [
    "n_total_tubos = n_tubos_por_paso * n_pasos_tubos\n",
    "\n",
    "print(f'n_total_tubos = {n_total_tubos:.0f}')"
   ]
  },
  {
   "cell_type": "code",
   "execution_count": 648,
   "metadata": {},
   "outputs": [
    {
     "name": "stdout",
     "output_type": "stream",
     "text": [
      "u_leche = 0.66 m/s\n"
     ]
    }
   ],
   "source": [
    "u_leche = G_leche / (n_tubos_por_paso * leche.rho * A_int_tubos) / 60**2\n",
    "\n",
    "print(f'u_leche = {u_leche:.2f} m/s')"
   ]
  },
  {
   "cell_type": "markdown",
   "metadata": {},
   "source": [
    "Como $G_{\\text{leche}} < C_{\\text{agua}}$ se tiene:\n",
    "$$ C_{\\text{min}} = C_{\\text{leche}} $$\n",
    "Y la eficiencia del intercambiador es:"
   ]
  },
  {
   "cell_type": "code",
   "execution_count": 649,
   "metadata": {},
   "outputs": [
    {
     "name": "stdout",
     "output_type": "stream",
     "text": [
      "eff = 43.8%\n"
     ]
    }
   ],
   "source": [
    "q_max = G_leche * (Te_agua - T2)\n",
    "\n",
    "q = G_leche * (T3 - T2)\n",
    "\n",
    "eff = q / q_max\n",
    "\n",
    "print(f'eff = {eff:.1%}')"
   ]
  },
  {
   "cell_type": "code",
   "execution_count": 650,
   "metadata": {},
   "outputs": [
    {
     "name": "stdout",
     "output_type": "stream",
     "text": [
      "Cr = 0.74\n"
     ]
    }
   ],
   "source": [
    "Cr = G_leche / G_agua\n",
    "\n",
    "print(f'Cr = {Cr:.2f}')"
   ]
  },
  {
   "cell_type": "markdown",
   "metadata": {},
   "source": [
    "Utilizando la fórmula del Incropera para el $NTU$ de un intercambiador de tubos y carcasa con un pase en carcasa se tiene:"
   ]
  },
  {
   "cell_type": "code",
   "execution_count": 651,
   "metadata": {},
   "outputs": [
    {
     "name": "stdout",
     "output_type": "stream",
     "text": [
      "NTU = 0.76\n"
     ]
    }
   ],
   "source": [
    "Const = (1 + Cr**2)**(1/2)\n",
    "E = (2 / eff - (1 + Cr)) / (Const)\n",
    "\n",
    "NTU = - Const**-1 * np.log((E - 1) / (E + 1))\n",
    "print(f'NTU = {NTU:.2f}')"
   ]
  },
  {
   "cell_type": "markdown",
   "metadata": {},
   "source": [
    "#### Cálculo del coeficiente global de transferencia de calor $U$\n",
    "##### Cálculo de $h_{\\text{leche}}$"
   ]
  },
  {
   "cell_type": "code",
   "execution_count": 652,
   "metadata": {},
   "outputs": [
    {
     "name": "stdout",
     "output_type": "stream",
     "text": [
      "Re_leche = 2.85e+04\n"
     ]
    }
   ],
   "source": [
    "Re_leche = u_leche * D_int_tubos / leche.nu\n",
    "\n",
    "print(f'Re_leche = {Re_leche:.2e}')"
   ]
  },
  {
   "cell_type": "markdown",
   "metadata": {},
   "source": [
    "Por lo tanto el flujo es turbulento."
   ]
  },
  {
   "cell_type": "markdown",
   "metadata": {},
   "source": [
    "Asumiendo:\n",
    "* Tubos lo suficientemente largos.\n",
    "* Espesor de pared despreciable.\n",
    "* Debido a que los fluidos son asimilables y los gastos son comparables. Se asume un valor medio para la temperatura de la pared."
   ]
  },
  {
   "cell_type": "code",
   "execution_count": 653,
   "metadata": {},
   "outputs": [],
   "source": [
    "Tm_leche = (T2 + T3) / 2\n",
    "Tm_agua = (Te_agua + Ts_agua) / 2\n",
    "\n",
    "Ts = (Tm_leche + Tm_agua) / 2"
   ]
  },
  {
   "cell_type": "code",
   "execution_count": 654,
   "metadata": {},
   "outputs": [
    {
     "name": "stdout",
     "output_type": "stream",
     "text": [
      "h_leche = 3,433 kcal/hm^2°C\n"
     ]
    }
   ],
   "source": [
    "Nu = 0.021 * Re_leche**0.8 * leche.Prandt**0.43 * (Prs / leche.Prandt)**0.25\n",
    "\n",
    "h_leche = Nu * leche.k / D_int_tubos * W_a_kcal_por_h \n",
    "\n",
    "print(f'h_leche = {h_leche:,.0f} kcal/hm^2°C')"
   ]
  },
  {
   "cell_type": "code",
   "execution_count": 655,
   "metadata": {},
   "outputs": [
    {
     "name": "stdout",
     "output_type": "stream",
     "text": [
      "U = 1,910 kcal/hm^2°C\n"
     ]
    }
   ],
   "source": [
    "U = (h_leche**-1 + h_ext**-1)**-1\n",
    "\n",
    "print(f'U = {U:,.0f} kcal/hm^2°C')"
   ]
  },
  {
   "cell_type": "markdown",
   "metadata": {},
   "source": [
    "Utilizando la definición de $NTU$ se calcula el área total de transferencia para los tubos y luego el largo de los mismos:"
   ]
  },
  {
   "cell_type": "code",
   "execution_count": 656,
   "metadata": {},
   "outputs": [
    {
     "name": "stdout",
     "output_type": "stream",
     "text": [
      "A_total = 1.59 m^2\n"
     ]
    }
   ],
   "source": [
    "A_total = NTU * G_leche / U\n",
    "\n",
    "print(f'A_total = {A_total:.2f} m^2')"
   ]
  },
  {
   "cell_type": "code",
   "execution_count": 657,
   "metadata": {},
   "outputs": [
    {
     "name": "stdout",
     "output_type": "stream",
     "text": [
      "L = 0.74 m\n"
     ]
    }
   ],
   "source": [
    "L = A_total / (n_total_tubos * np.pi * D_int_tubos)\n",
    "\n",
    "print(f'L = {L:.2f} m')"
   ]
  },
  {
   "cell_type": "markdown",
   "metadata": {},
   "source": [
    "### Parte B"
   ]
  },
  {
   "cell_type": "markdown",
   "metadata": {},
   "source": [
    "Se desprecia el espesor del serpentín."
   ]
  },
  {
   "cell_type": "code",
   "execution_count": 658,
   "metadata": {},
   "outputs": [],
   "source": [
    "Tamb = 20 # °C (Dato)\n",
    "h_amb = 10 * W_a_kcal_por_h # kcal/hm^2°C (Dato)\n",
    "\n",
    "u_serpentin = 0.7 # m/s (Dato)\n",
    "\n",
    "t_paust = 20 # s (Dato)"
   ]
  },
  {
   "cell_type": "code",
   "execution_count": 659,
   "metadata": {},
   "outputs": [],
   "source": [
    "leche_serpentin = agua_saturada(T3)"
   ]
  },
  {
   "cell_type": "markdown",
   "metadata": {},
   "source": [
    "De los datos se calculan el diámetro y largo del serpentin:"
   ]
  },
  {
   "cell_type": "code",
   "execution_count": 660,
   "metadata": {},
   "outputs": [
    {
     "name": "stdout",
     "output_type": "stream",
     "text": [
      "D_serpentin = 0.045 m\n"
     ]
    }
   ],
   "source": [
    "A_int_serpentin = G_leche / (leche_serpentin.rho * u_serpentin * 60**2)\n",
    "D_serpentin = (4 / np.pi * A_int_serpentin)**(1/2)\n",
    "\n",
    "print(f'D_serpentin = {D_serpentin:.3f} m')"
   ]
  },
  {
   "cell_type": "code",
   "execution_count": 661,
   "metadata": {},
   "outputs": [
    {
     "name": "stdout",
     "output_type": "stream",
     "text": [
      "L_serpentin = 14.0 m\n"
     ]
    }
   ],
   "source": [
    "L_serpentin = t_paust * u_serpentin\n",
    "\n",
    "print(f'L_serpentin = {L_serpentin:.1f} m')"
   ]
  },
  {
   "cell_type": "markdown",
   "metadata": {},
   "source": [
    "Se verifica la suposición de tubos largos.  \n",
    "Debido a que $h_{\\text{amb}}<<h_{\\text{leche}}$ se desprecia el efecto de $h_{leche}$ en $U$ y se asume:\n",
    "$$U = h_{amb}$$"
   ]
  },
  {
   "cell_type": "code",
   "execution_count": 662,
   "metadata": {},
   "outputs": [
    {
     "name": "stdout",
     "output_type": "stream",
     "text": [
      "caida_de_temperatura = 0.2 °C\n"
     ]
    }
   ],
   "source": [
    "A_serpentin = np.pi * D_serpentin * L_serpentin\n",
    "q_serpentin = h_amb * A_serpentin * (T3 - Tamb)\n",
    "\n",
    "T4 = T3 - q_serpentin / G_leche\n",
    "\n",
    "caida_de_temperatura = T3 - T4\n",
    "\n",
    "print(f'caida_de_temperatura = {caida_de_temperatura:.1f} °C')"
   ]
  },
  {
   "cell_type": "markdown",
   "metadata": {},
   "source": [
    "Para analizar si traería problemas utilizar un caño de diámetro más pequeño, consideramos los efectos que tendría usar dicho caño:\n",
    "1. Aumenta $h_{\\text{leche}}$\n",
    "2. Aumenta $L_\\text{serpentin}$\n",
    "\n",
    "Como se epxlicó anteriormente, el efecto de $1.$ es despreciable ya que $h_{\\text{amb}}<<h_{\\text{leche}}$.  \n",
    "Se analiza el efecto de $2.$ calculando el nuevo largo necesario para el serpentin y la nueva caida de temperatura.:"
   ]
  },
  {
   "cell_type": "code",
   "execution_count": 663,
   "metadata": {},
   "outputs": [
    {
     "name": "stdout",
     "output_type": "stream",
     "text": [
      "u_serpentin = 2.86 m/s\n"
     ]
    }
   ],
   "source": [
    "D_serpentin = 0.045 / 2\n",
    "\n",
    "A_int_serpentin = np.pi / 4 * D_serpentin**2\n",
    "u_serpentin = G_leche / (A_int_serpentin * leche_serpentin.rho * 60**2)\n",
    "\n",
    "print(f'u_serpentin = {u_serpentin:.2f} m/s')"
   ]
  },
  {
   "cell_type": "code",
   "execution_count": 664,
   "metadata": {},
   "outputs": [
    {
     "name": "stdout",
     "output_type": "stream",
     "text": [
      "L_serpentin = 57.2 m\n"
     ]
    }
   ],
   "source": [
    "L_serpentin = t_paust * u_serpentin\n",
    "\n",
    "print(f'L_serpentin = {L_serpentin:.1f} m')"
   ]
  },
  {
   "cell_type": "code",
   "execution_count": 665,
   "metadata": {},
   "outputs": [
    {
     "name": "stdout",
     "output_type": "stream",
     "text": [
      "caida_de_temperatura = 0.5 °C\n"
     ]
    }
   ],
   "source": [
    "A_serpentin = np.pi * D_serpentin * L_serpentin\n",
    "q_serpentin = h_amb * A_serpentin * (T3 - Tamb)\n",
    "\n",
    "T4 = T3 - q_serpentin / G_leche\n",
    "\n",
    "caida_de_temperatura = T3 - T4\n",
    "\n",
    "print(f'caida_de_temperatura = {caida_de_temperatura:.1f} °C')"
   ]
  },
  {
   "cell_type": "markdown",
   "metadata": {},
   "source": [
    "La caída de temperatura de la leche está dentro de lo admisible incluso considerando un serpentín con diámetro igual a la mitad del considerado originalmente."
   ]
  },
  {
   "cell_type": "markdown",
   "metadata": {},
   "source": [
    "### Parte C"
   ]
  },
  {
   "cell_type": "markdown",
   "metadata": {},
   "source": [
    "Para el intercambiador regenerativo se tiene $C_r = 1$ y la eficiencia es:"
   ]
  },
  {
   "cell_type": "code",
   "execution_count": 666,
   "metadata": {},
   "outputs": [
    {
     "name": "stdout",
     "output_type": "stream",
     "text": [
      "eff = 79.4%\n"
     ]
    }
   ],
   "source": [
    "q_max = G_leche * (T3 - T1)\n",
    "\n",
    "q = G_leche * (T2 - T1)\n",
    "\n",
    "eff = q / q_max\n",
    "\n",
    "print(f'eff = {eff:.1%}')"
   ]
  },
  {
   "cell_type": "markdown",
   "metadata": {},
   "source": [
    "Viendo los ábacos de $NTU$ en función de $C_r$ y la eficiencia se puede ver que las configuraciones viables son:\n",
    "* Intercambiador de tubo en tubo conectado en contraflujo\n",
    "* Intercambiador de tubos y carcasa con 2 pases en carcasa\n",
    "\n",
    "Las demás configuraciones no alcanzarían la eficiencia obtenida para $C_r = 1$."
   ]
  },
  {
   "cell_type": "markdown",
   "metadata": {},
   "source": [
    "### Parte D"
   ]
  },
  {
   "cell_type": "markdown",
   "metadata": {},
   "source": [
    "Según el método $\\Delta T_{log}$ se tiene:\n",
    "$$ q = UAF \\Delta T_{log} $$\n",
    "Donde $\\Delta T_{log}$ es la diferencia de temperatura media logarítmica considerando contraflujo y $F$ es un factor de corrección que depende del tipo de intercambiador y las temperaturas."
   ]
  },
  {
   "cell_type": "markdown",
   "metadata": {},
   "source": [
    "Calculamos $UAF$ para el intercambiador regenerativo usando las temperaturas de la parte anterior.  \n",
    "La diferencia de temperaturas es constante a lo largo del intercambiador (igual fluido y caudal en ambos lados)."
   ]
  },
  {
   "cell_type": "code",
   "execution_count": 667,
   "metadata": {},
   "outputs": [],
   "source": [
    "DTlog = T4 - T2"
   ]
  },
  {
   "cell_type": "markdown",
   "metadata": {},
   "source": [
    "El calor transferido es:"
   ]
  },
  {
   "cell_type": "code",
   "execution_count": 668,
   "metadata": {},
   "outputs": [
    {
     "name": "stdout",
     "output_type": "stream",
     "text": [
      "q_regenerativo = 216,000 kcal/h\n"
     ]
    }
   ],
   "source": [
    "q_regenerativo = G_leche * (T2 - T1)\n",
    "\n",
    "print(f'q_regenerativo = {q_regenerativo:,.0f} kcal/h')"
   ]
  },
  {
   "cell_type": "code",
   "execution_count": 669,
   "metadata": {},
   "outputs": [],
   "source": [
    "UAF = q_regenerativo / (DTlog)"
   ]
  },
  {
   "cell_type": "markdown",
   "metadata": {},
   "source": [
    "Si ambos coeficientes de convección corresponden a flujo interno en régimen turbulento, se tiene que:\n",
    "$$ U \\propto {u_{\\text{leche}}}^{0.8} $$\n",
    "Como $A$ y $F$, no cambian y:\n",
    "$$u_{\\text{leche}} \\propto G_{\\text{leche}}$$ \n",
    "Se tiene:\n",
    "$$ UAF \\propto {G_{\\text{leche}}}^{0.8} $$\n",
    "Por lo que podemos calcular el nuevo $UAF$ luego de que el caudal haya disminuíudo en un $10\\%$ de la siguiente manera:"
   ]
  },
  {
   "cell_type": "code",
   "execution_count": 670,
   "metadata": {},
   "outputs": [],
   "source": [
    "UAF = UAF * 0.9**0.8\n",
    "\n",
    "G_leche = 0.9 * 4000 # kg/h"
   ]
  },
  {
   "cell_type": "markdown",
   "metadata": {},
   "source": [
    "De:\n",
    "$$ \\Delta T_{log} = T_4 - T_2$$\n",
    "Y:\n",
    "$$ q_{\\text{regenerativo}} = UAF \\Delta T_{log} $$\n",
    "Y el balance a la leche fresca, se obtiene la siguiente ecuación:"
   ]
  },
  {
   "cell_type": "markdown",
   "metadata": {},
   "source": [
    "$$ T_2 = T_1 + \\frac{ UAF  }{ G_{\\text{leche}} } (T_4 - T_2) $$"
   ]
  },
  {
   "cell_type": "markdown",
   "metadata": {},
   "source": [
    "Despejando para hallar $T_2$:\n",
    "$$ (1 + \\frac{ UAF  }{ G_{\\text{leche}} }) T_2 = T_1 + \\frac{ UAF  }{ G_{\\text{leche}} } T_4$$"
   ]
  },
  {
   "cell_type": "markdown",
   "metadata": {},
   "source": [
    "Definiendo $R$:\n",
    "$$ R = \\frac{ UAF  }{ G_{\\text{leche}} } $$\n",
    "Se tiene:\n",
    "$$ T2 = \\frac{ T1 + R T_4 }{ 1 + R } $$"
   ]
  },
  {
   "cell_type": "code",
   "execution_count": 671,
   "metadata": {},
   "outputs": [
    {
     "name": "stdout",
     "output_type": "stream",
     "text": [
      "T2 = 58.2 °C\n"
     ]
    }
   ],
   "source": [
    "R = UAF / G_leche\n",
    "\n",
    "T2 = (T1 + R * T4) / (1 + R)\n",
    "\n",
    "print(f'T2 = {T2:.1f} °C')"
   ]
  },
  {
   "cell_type": "markdown",
   "metadata": {},
   "source": [
    "La temperatura cambia muy poco al disminuír el caudal en un $10\\%$."
   ]
  },
  {
   "cell_type": "markdown",
   "metadata": {},
   "source": [
    "#### Cálculo de la nueva temperatura del agua caliente en el calentador.\n",
    "Se vuelve a calcular $U$ usando la dependencia de $h$ con $Re$ y $G_{\\text{leche}}$."
   ]
  },
  {
   "cell_type": "code",
   "execution_count": 672,
   "metadata": {},
   "outputs": [
    {
     "name": "stdout",
     "output_type": "stream",
     "text": [
      "h_leche = 3,155 kcal/hm^2°C\n"
     ]
    }
   ],
   "source": [
    "h_leche = h_leche * 0.9**0.8\n",
    "\n",
    "print(f'h_leche = {h_leche:,.0f} kcal/hm^2°C')"
   ]
  },
  {
   "cell_type": "code",
   "execution_count": 673,
   "metadata": {},
   "outputs": [
    {
     "name": "stdout",
     "output_type": "stream",
     "text": [
      "U = 1,821 kcal/hm^2°C\n"
     ]
    }
   ],
   "source": [
    "\n",
    "\n",
    "U = (h_leche**-1 + h_ext**-1)**-1\n",
    "\n",
    "print(f'U = {U:,.0f} kcal/hm^2°C')"
   ]
  },
  {
   "cell_type": "code",
   "execution_count": 674,
   "metadata": {},
   "outputs": [
    {
     "name": "stdout",
     "output_type": "stream",
     "text": [
      "NTU = 0.803\n"
     ]
    }
   ],
   "source": [
    "NTU = U * A_total / G_leche\n",
    "\n",
    "print(f'NTU = {NTU:.3f}')"
   ]
  },
  {
   "cell_type": "code",
   "execution_count": 675,
   "metadata": {},
   "outputs": [
    {
     "name": "stdout",
     "output_type": "stream",
     "text": [
      "Cr = 0.67\n"
     ]
    }
   ],
   "source": [
    "Cr = G_leche / G_agua\n",
    "\n",
    "print(f'Cr = {Cr:.2f}')"
   ]
  },
  {
   "cell_type": "markdown",
   "metadata": {},
   "source": [
    "De la fórmula del incropera para la eficiencia de un intercambiador de tubos y carcasa con un pase en carcasa:"
   ]
  },
  {
   "cell_type": "code",
   "execution_count": 676,
   "metadata": {},
   "outputs": [
    {
     "name": "stdout",
     "output_type": "stream",
     "text": [
      "eff = 46.0%\n"
     ]
    }
   ],
   "source": [
    "# Variables auxiliares R y F\n",
    "R = (1 + Cr**2)**(0.5)\n",
    "F = np.exp(-NTU * R)\n",
    "\n",
    "eff = 2 * (1 + Cr + R * (1 + F) / (1 - F))**-1\n",
    "\n",
    "print(f'eff = {eff:.1%}')"
   ]
  },
  {
   "cell_type": "markdown",
   "metadata": {},
   "source": [
    "La nueva temperatura de entrada del agua caliente debe ser:"
   ]
  },
  {
   "cell_type": "code",
   "execution_count": 677,
   "metadata": {},
   "outputs": [
    {
     "name": "stdout",
     "output_type": "stream",
     "text": [
      "Te_agua = 88.2 °C\n"
     ]
    }
   ],
   "source": [
    "q_calentador = G_leche * (T3 - T2)\n",
    "\n",
    "q_max = q_calentador / eff\n",
    "\n",
    "Te_agua = T2 + q_max / G_leche\n",
    "\n",
    "print(f'Te_agua = {Te_agua:.1f} °C')"
   ]
  }
 ],
 "metadata": {
  "kernelspec": {
   "display_name": "Python 3",
   "language": "python",
   "name": "python3"
  },
  "language_info": {
   "codemirror_mode": {
    "name": "ipython",
    "version": 3
   },
   "file_extension": ".py",
   "mimetype": "text/x-python",
   "name": "python",
   "nbconvert_exporter": "python",
   "pygments_lexer": "ipython3",
   "version": "3.7.3"
  }
 },
 "nbformat": 4,
 "nbformat_minor": 4
}
