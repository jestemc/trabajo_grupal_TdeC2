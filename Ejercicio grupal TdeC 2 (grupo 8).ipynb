{
 "cells": [
  {
   "cell_type": "markdown",
   "metadata": {},
   "source": [
    "# Trabajo grupal\n"
   ]
  },
  {
   "cell_type": "code",
   "execution_count": 1,
   "metadata": {},
   "outputs": [],
   "source": [
    "from math import exp, log, ceil, pi # Funciones y constantes matemáticas\n",
    "from iapws import IAPWS97 # Propiedades de agua y vapor saturados.\n",
    "\n",
    "def agua_saturada(T):\n",
    "    # Devuelve un objeto con las propiedades del agua saturada a temperatura T en °C.\n",
    "    return IAPWS97(T=T+273, x=0) # Calidad 0% -> Agua saturada"
   ]
  },
  {
   "cell_type": "markdown",
   "metadata": {},
   "source": [
    "## Datos"
   ]
  },
  {
   "cell_type": "markdown",
   "metadata": {},
   "source": [
    "#### Datos del flujo de leche"
   ]
  },
  {
   "cell_type": "code",
   "execution_count": 2,
   "metadata": {},
   "outputs": [],
   "source": [
    "G_leche = 4000 # kg/h\n",
    "\n",
    "T1 = 4 # °C\n",
    "T2 = 58 # °C\n",
    "\n",
    "u_max = 0.7 # m/s"
   ]
  },
  {
   "cell_type": "markdown",
   "metadata": {},
   "source": [
    "#### Datos del calentador\n",
    "Intercambiador de tubos y carcasa."
   ]
  },
  {
   "cell_type": "code",
   "execution_count": 3,
   "metadata": {},
   "outputs": [
    {
     "name": "stdout",
     "output_type": "stream",
     "text": [
      "h_ext = 4,304 kcal/hm^2°C\n"
     ]
    }
   ],
   "source": [
    "n_pasos_tubos = 6\n",
    "n_pasos_carcasa = 1\n",
    "\n",
    "D_int_tubos = 3/4 * 25.4e-3 # m\n",
    "\n",
    "W_a_kcal_por_h = 60**2 / 4.182e3\n",
    "h_ext = 5000 * W_a_kcal_por_h # kcal/hm^2°C\n",
    "\n",
    "print(f'h_ext = {h_ext:,.0f} kcal/hm^2°C')"
   ]
  },
  {
   "cell_type": "code",
   "execution_count": 4,
   "metadata": {},
   "outputs": [
    {
     "name": "stdout",
     "output_type": "stream",
     "text": [
      "G_agua = 5,406 kg/h\n"
     ]
    }
   ],
   "source": [
    "Te_agua = 90 # °C\n",
    "\n",
    "G_agua = 5.6 * agua_saturada(Te_agua).rho # kg/h\n",
    "\n",
    "print(f'G_agua = {G_agua:,.0f} kg/h')"
   ]
  },
  {
   "cell_type": "markdown",
   "metadata": {},
   "source": [
    "#### Suposiciones generales\n",
    "Para el rango de temperaturas del ejercicio se considera despreciable la variación $C_p$ del agua con la temperatura y se asume:\n",
    "$$C_p = 1 kcal/kg^{\\circ}C$$\n",
    "\n",
    "Debido a esto si $C$ y $G$ son los valores numéricos de la capacitancia térmica y el gasto de fluido repectivamente, se tiene que:\n",
    "$$ C = G $$\n",
    "\n",
    "En los cálculos que siguen se usa indistintamente $G$ en lugar de $C$, considerando que la conversión de unidades está implícita."
   ]
  },
  {
   "cell_type": "markdown",
   "metadata": {},
   "source": [
    "### Parte A\n",
    "Problema de diseño.  \n",
    "Leche pasando por tubos y agua por carcasa."
   ]
  },
  {
   "cell_type": "code",
   "execution_count": 5,
   "metadata": {},
   "outputs": [],
   "source": [
    "T3 = 72 # °C (Dato)"
   ]
  },
  {
   "cell_type": "code",
   "execution_count": 6,
   "metadata": {},
   "outputs": [],
   "source": [
    "Tm_leche = (T2 + T3) / 2\n",
    "\n",
    "leche = agua_saturada(Tm_leche) # Propiedades de la leche asimilables a las del agua"
   ]
  },
  {
   "cell_type": "markdown",
   "metadata": {},
   "source": [
    "Del balance al agua caliente se tiene que la temperatura de salida es:"
   ]
  },
  {
   "cell_type": "code",
   "execution_count": 7,
   "metadata": {},
   "outputs": [
    {
     "name": "stdout",
     "output_type": "stream",
     "text": [
      "Ts_agua = 71.1 °C\n"
     ]
    }
   ],
   "source": [
    "Ts_agua = Te_agua - G_agua / G_leche * (T3 - T2)\n",
    "\n",
    "print(f'Ts_agua = {Ts_agua:.1f} °C')"
   ]
  },
  {
   "cell_type": "markdown",
   "metadata": {},
   "source": [
    "De los datos del calentador se calculan la cantidad de tubos por paso, la cantidad total de tubos y la velocidad de la leche dentro de los mismos:"
   ]
  },
  {
   "cell_type": "code",
   "execution_count": 8,
   "metadata": {},
   "outputs": [
    {
     "name": "stdout",
     "output_type": "stream",
     "text": [
      "n_tubos_por_paso = 6\n"
     ]
    }
   ],
   "source": [
    "A_int_tubos = pi / 4 * D_int_tubos**2\n",
    "\n",
    "G_max_por_tubo = A_int_tubos * u_max * leche.rho * 60**2\n",
    "\n",
    "n_tubos_por_paso = ceil(G_leche / G_max_por_tubo)\n",
    "\n",
    "print(f'n_tubos_por_paso = {n_tubos_por_paso:.0f}')"
   ]
  },
  {
   "cell_type": "code",
   "execution_count": 9,
   "metadata": {},
   "outputs": [
    {
     "name": "stdout",
     "output_type": "stream",
     "text": [
      "n_total_tubos = 36\n"
     ]
    }
   ],
   "source": [
    "n_total_tubos = n_tubos_por_paso * n_pasos_tubos\n",
    "\n",
    "print(f'n_total_tubos = {n_total_tubos:.0f}')"
   ]
  },
  {
   "cell_type": "code",
   "execution_count": 10,
   "metadata": {},
   "outputs": [
    {
     "name": "stdout",
     "output_type": "stream",
     "text": [
      "u_leche = 0.66 m/s\n"
     ]
    }
   ],
   "source": [
    "u_leche = G_leche / (n_tubos_por_paso * leche.rho * A_int_tubos) / 60**2\n",
    "\n",
    "print(f'u_leche = {u_leche:.2f} m/s')"
   ]
  },
  {
   "cell_type": "markdown",
   "metadata": {},
   "source": [
    "Como $G_{\\text{leche}} < C_{\\text{agua}}$ se tiene:\n",
    "$$ C_{\\text{min}} = C_{\\text{leche}} $$\n",
    "Y la eficiencia del intercambiador es:"
   ]
  },
  {
   "cell_type": "code",
   "execution_count": 11,
   "metadata": {},
   "outputs": [
    {
     "name": "stdout",
     "output_type": "stream",
     "text": [
      "eff = 43.8%\n"
     ]
    }
   ],
   "source": [
    "q_max = G_leche * (Te_agua - T2)\n",
    "\n",
    "q = G_leche * (T3 - T2)\n",
    "\n",
    "eff = q / q_max\n",
    "\n",
    "print(f'eff = {eff:.1%}')"
   ]
  },
  {
   "cell_type": "code",
   "execution_count": 12,
   "metadata": {},
   "outputs": [
    {
     "name": "stdout",
     "output_type": "stream",
     "text": [
      "Cr = 0.74\n"
     ]
    }
   ],
   "source": [
    "Cr = G_leche / G_agua\n",
    "\n",
    "print(f'Cr = {Cr:.2f}')"
   ]
  },
  {
   "cell_type": "markdown",
   "metadata": {},
   "source": [
    "Utilizando la fórmula del Incropera para el $NTU$ de un intercambiador de tubos y carcasa con un pase en carcasa se tiene:"
   ]
  },
  {
   "cell_type": "code",
   "execution_count": 13,
   "metadata": {},
   "outputs": [
    {
     "name": "stdout",
     "output_type": "stream",
     "text": [
      "NTU = 0.76\n"
     ]
    }
   ],
   "source": [
    "# Variables auxiliares\n",
    "F = (1 + Cr**2)**(1/2)\n",
    "E = (2 / eff - (1 + Cr)) / (F)\n",
    "\n",
    "NTU = - F**-1 * log((E - 1) / (E + 1))\n",
    "print(f'NTU = {NTU:.2f}')"
   ]
  },
  {
   "cell_type": "markdown",
   "metadata": {},
   "source": [
    "#### Cálculo del coeficiente global de transferencia de calor $U$\n",
    "##### Cálculo de $h_{\\text{leche}}$"
   ]
  },
  {
   "cell_type": "code",
   "execution_count": 14,
   "metadata": {},
   "outputs": [
    {
     "name": "stdout",
     "output_type": "stream",
     "text": [
      "Re_leche = 2.85e+04\n"
     ]
    }
   ],
   "source": [
    "Re_leche = u_leche * D_int_tubos / leche.nu\n",
    "\n",
    "print(f'Re_leche = {Re_leche:.2e}')"
   ]
  },
  {
   "cell_type": "markdown",
   "metadata": {},
   "source": [
    "Por lo tanto el flujo es turbulento."
   ]
  },
  {
   "cell_type": "markdown",
   "metadata": {},
   "source": [
    "Asumiendo:\n",
    "* Tubos lo suficientemente largos.\n",
    "* Espesor de pared despreciable.\n",
    "* Debido a que los fluidos son asimilables y los gastos son comparables. Se asume un valor medio para la temperatura de la pared."
   ]
  },
  {
   "cell_type": "code",
   "execution_count": 15,
   "metadata": {},
   "outputs": [],
   "source": [
    "Tm_leche = (T2 + T3) / 2\n",
    "Tm_agua = (Te_agua + Ts_agua) / 2\n",
    "\n",
    "Ts = (Tm_leche + Tm_agua) / 2"
   ]
  },
  {
   "cell_type": "code",
   "execution_count": 16,
   "metadata": {},
   "outputs": [],
   "source": [
    "Prs = agua_saturada(Ts).Prandt"
   ]
  },
  {
   "cell_type": "code",
   "execution_count": 17,
   "metadata": {},
   "outputs": [
    {
     "name": "stdout",
     "output_type": "stream",
     "text": [
      "h_leche = 3,433 kcal/hm^2°C\n"
     ]
    }
   ],
   "source": [
    "Nu = 0.021 * Re_leche**0.8 * leche.Prandt**0.43 * (Prs / leche.Prandt)**0.25\n",
    "\n",
    "h_leche = Nu * leche.k / D_int_tubos * W_a_kcal_por_h \n",
    "\n",
    "print(f'h_leche = {h_leche:,.0f} kcal/hm^2°C')"
   ]
  },
  {
   "cell_type": "code",
   "execution_count": 18,
   "metadata": {},
   "outputs": [
    {
     "name": "stdout",
     "output_type": "stream",
     "text": [
      "U = 1,910 kcal/hm^2°C\n"
     ]
    }
   ],
   "source": [
    "U = (h_leche**-1 + h_ext**-1)**-1\n",
    "\n",
    "print(f'U = {U:,.0f} kcal/hm^2°C')"
   ]
  },
  {
   "cell_type": "markdown",
   "metadata": {},
   "source": [
    "Utilizando la definición de $NTU$ se calcula el área total de transferencia para los tubos y luego el largo de los mismos:"
   ]
  },
  {
   "cell_type": "code",
   "execution_count": 19,
   "metadata": {},
   "outputs": [
    {
     "name": "stdout",
     "output_type": "stream",
     "text": [
      "A_total = 1.59 m^2\n"
     ]
    }
   ],
   "source": [
    "A_total = NTU * G_leche / U\n",
    "\n",
    "print(f'A_total = {A_total:.2f} m^2')"
   ]
  },
  {
   "cell_type": "code",
   "execution_count": 20,
   "metadata": {},
   "outputs": [
    {
     "name": "stdout",
     "output_type": "stream",
     "text": [
      "L = 0.74 m\n"
     ]
    }
   ],
   "source": [
    "L = A_total / (n_total_tubos * pi * D_int_tubos)\n",
    "\n",
    "print(f'L = {L:.2f} m')"
   ]
  },
  {
   "cell_type": "markdown",
   "metadata": {},
   "source": [
    "### Parte B"
   ]
  },
  {
   "cell_type": "markdown",
   "metadata": {},
   "source": [
    "Se desprecia el espesor del serpentín."
   ]
  },
  {
   "cell_type": "code",
   "execution_count": 21,
   "metadata": {},
   "outputs": [],
   "source": [
    "Tamb = 20 # °C (Dato)\n",
    "h_amb = 10 * W_a_kcal_por_h # kcal/hm^2°C (Dato)\n",
    "\n",
    "u_serpentin = 0.7 # m/s (Dato)\n",
    "\n",
    "t_paust = 20 # s (Dato)"
   ]
  },
  {
   "cell_type": "code",
   "execution_count": 22,
   "metadata": {},
   "outputs": [],
   "source": [
    "leche_serpentin = agua_saturada(T3)"
   ]
  },
  {
   "cell_type": "markdown",
   "metadata": {},
   "source": [
    "De los datos se calculan el diámetro y largo del serpentin:"
   ]
  },
  {
   "cell_type": "code",
   "execution_count": 23,
   "metadata": {},
   "outputs": [
    {
     "name": "stdout",
     "output_type": "stream",
     "text": [
      "D_serpentin = 0.045 m\n"
     ]
    }
   ],
   "source": [
    "A_int_serpentin = G_leche / (leche_serpentin.rho * u_serpentin * 60**2)\n",
    "D_serpentin = (4 / pi * A_int_serpentin)**(1/2)\n",
    "\n",
    "print(f'D_serpentin = {D_serpentin:.3f} m')"
   ]
  },
  {
   "cell_type": "code",
   "execution_count": 24,
   "metadata": {},
   "outputs": [
    {
     "name": "stdout",
     "output_type": "stream",
     "text": [
      "L_serpentin = 14.0 m\n"
     ]
    }
   ],
   "source": [
    "L_serpentin = t_paust * u_serpentin\n",
    "\n",
    "print(f'L_serpentin = {L_serpentin:.1f} m')"
   ]
  },
  {
   "cell_type": "markdown",
   "metadata": {},
   "source": [
    "Se verifica la suposición de tubos largos.  \n",
    "Debido a que $h_{\\text{amb}}<<h_{\\text{leche}}$ se desprecia el efecto de $h_{leche}$ en $U$ y se asume:\n",
    "$$U = h_{amb}$$"
   ]
  },
  {
   "cell_type": "code",
   "execution_count": 25,
   "metadata": {},
   "outputs": [
    {
     "name": "stdout",
     "output_type": "stream",
     "text": [
      "caida_de_temperatura = 0.2 °C\n"
     ]
    }
   ],
   "source": [
    "A_serpentin = pi * D_serpentin * L_serpentin\n",
    "q_serpentin = h_amb * A_serpentin * (T3 - Tamb)\n",
    "\n",
    "T4 = T3 - q_serpentin / G_leche\n",
    "\n",
    "caida_de_temperatura = T3 - T4\n",
    "\n",
    "print(f'caida_de_temperatura = {caida_de_temperatura:.1f} °C')"
   ]
  },
  {
   "cell_type": "markdown",
   "metadata": {},
   "source": [
    "Para analizar si traería problemas utilizar un caño de diámetro más pequeño, consideramos los efectos que tendría usar dicho caño:\n",
    "1. Aumenta $h_{\\text{leche}}$\n",
    "2. Aumenta $L_\\text{serpentin}$\n",
    "\n",
    "Como se epxlicó anteriormente, el efecto de $1.$ es despreciable ya que $h_{\\text{amb}}<<h_{\\text{leche}}$.  \n",
    "Se analiza el efecto de $2.$ calculando el nuevo largo necesario para el serpentin y la nueva caida de temperatura.:"
   ]
  },
  {
   "cell_type": "code",
   "execution_count": 26,
   "metadata": {},
   "outputs": [
    {
     "name": "stdout",
     "output_type": "stream",
     "text": [
      "u_serpentin = 2.86 m/s\n"
     ]
    }
   ],
   "source": [
    "D_serpentin = 0.045 / 2\n",
    "\n",
    "A_int_serpentin = pi / 4 * D_serpentin**2\n",
    "u_serpentin = G_leche / (A_int_serpentin * leche_serpentin.rho * 60**2)\n",
    "\n",
    "print(f'u_serpentin = {u_serpentin:.2f} m/s')"
   ]
  },
  {
   "cell_type": "code",
   "execution_count": 27,
   "metadata": {},
   "outputs": [
    {
     "name": "stdout",
     "output_type": "stream",
     "text": [
      "L_serpentin = 57.2 m\n"
     ]
    }
   ],
   "source": [
    "L_serpentin = t_paust * u_serpentin\n",
    "\n",
    "print(f'L_serpentin = {L_serpentin:.1f} m')"
   ]
  },
  {
   "cell_type": "code",
   "execution_count": 28,
   "metadata": {},
   "outputs": [
    {
     "name": "stdout",
     "output_type": "stream",
     "text": [
      "caida_de_temperatura = 0.5 °C\n"
     ]
    }
   ],
   "source": [
    "A_serpentin = pi * D_serpentin * L_serpentin\n",
    "q_serpentin = h_amb * A_serpentin * (T3 - Tamb)\n",
    "\n",
    "T4 = T3 - q_serpentin / G_leche\n",
    "\n",
    "caida_de_temperatura = T3 - T4\n",
    "\n",
    "print(f'caida_de_temperatura = {caida_de_temperatura:.1f} °C')"
   ]
  },
  {
   "cell_type": "markdown",
   "metadata": {},
   "source": [
    "La caída de temperatura de la leche está dentro de lo admisible incluso considerando un serpentín con diámetro igual a la mitad del considerado originalmente."
   ]
  },
  {
   "cell_type": "markdown",
   "metadata": {},
   "source": [
    "### Parte C"
   ]
  },
  {
   "cell_type": "markdown",
   "metadata": {},
   "source": [
    "Para el intercambiador regenerativo se tiene $C_r = 1$ y la eficiencia es:"
   ]
  },
  {
   "cell_type": "code",
   "execution_count": 29,
   "metadata": {},
   "outputs": [
    {
     "name": "stdout",
     "output_type": "stream",
     "text": [
      "eff = 79.4%\n"
     ]
    }
   ],
   "source": [
    "q_max = G_leche * (T3 - T1)\n",
    "\n",
    "q = G_leche * (T2 - T1)\n",
    "\n",
    "eff = q / q_max\n",
    "\n",
    "print(f'eff = {eff:.1%}')"
   ]
  },
  {
   "cell_type": "markdown",
   "metadata": {},
   "source": [
    "Viendo los ábacos de $NTU$ en función de $C_r$ y la eficiencia se puede ver que la única configuración viable es la de contraflujo.\n",
    "Las demás configuraciones no alcanzarían la eficiencia obtenida para $C_r = 1$."
   ]
  },
  {
   "cell_type": "markdown",
   "metadata": {},
   "source": [
    "### Parte D\n",
    "#### Cálculo de $T_2$"
   ]
  },
  {
   "cell_type": "markdown",
   "metadata": {},
   "source": [
    "No se indica el tipo de intercambiador.  \n",
    "Se asume un intercambiador de tubo en tubo conectado (según parte C) en contraflujo.  \n",
    "Para otro tipo de intercambiador el método de resolución es el mismo. Solo es necesario utilizar la correlación $\\epsilon-NTU$ apropiada.  \n",
    "\n",
    "Como la caída de temperatura en el serpentín es pequeña, despreciamos el cambio en $T_4$ al disminuír el caudal."
   ]
  },
  {
   "cell_type": "markdown",
   "metadata": {},
   "source": [
    "Utilizando los resultados en la parte anterior, calculamos $UA$ para el intercambiador regenerativo.  \n",
    "La fórmula para $NTU$ con $C_r = 1$ es:"
   ]
  },
  {
   "cell_type": "code",
   "execution_count": 30,
   "metadata": {},
   "outputs": [
    {
     "name": "stdout",
     "output_type": "stream",
     "text": [
      "NTU = 3.86\n"
     ]
    }
   ],
   "source": [
    "NTU = eff / (1 - eff)\n",
    "\n",
    "print(f'NTU = {NTU:.2f}')"
   ]
  },
  {
   "cell_type": "code",
   "execution_count": 31,
   "metadata": {},
   "outputs": [
    {
     "name": "stdout",
     "output_type": "stream",
     "text": [
      "UA = 15,429 kcal\n"
     ]
    }
   ],
   "source": [
    "UA = NTU * G_leche\n",
    "\n",
    "print(f'UA = {UA:,.0f} kcal')"
   ]
  },
  {
   "cell_type": "markdown",
   "metadata": {},
   "source": [
    "Ahora analizamos la situación al disminuír el caudal de leche:"
   ]
  },
  {
   "cell_type": "code",
   "execution_count": 32,
   "metadata": {},
   "outputs": [],
   "source": [
    "G_leche = 4000 * 0.9 # kg/h"
   ]
  },
  {
   "cell_type": "markdown",
   "metadata": {},
   "source": [
    "Como los coeficientes de convección que determinan $U$ corresponden ambos a flujo interno en régimen turbulento, se tiene:\n",
    "$$ h \\propto {u_{\\text{leche}}}^{0.8} $$\n",
    "\n",
    "Como $u_{\\text{leche}} \\propto G_{\\text{leche}}$ se tiene:\n",
    "$$ h \\propto {G_{\\text{leche}}}^{0.8} $$\n",
    "\n",
    "Por lo que:\n",
    "$$ U \\propto {G_{\\text{leche}}}^{0.8} $$\n",
    "\n",
    "Entonces, podemos calcular el nuevo coeficiente global de transferencia de la siguiente manera:\n",
    "$$ U_{\\text{actual}} = U_{\\text{anterior}} \\Big( \\frac{G_{\\text{actual}}}{G_{\\text{anterior}}} \\Big)^{0.8} $$\n"
   ]
  },
  {
   "cell_type": "code",
   "execution_count": 33,
   "metadata": {},
   "outputs": [
    {
     "name": "stdout",
     "output_type": "stream",
     "text": [
      "UA = 14,181 kcal\n"
     ]
    }
   ],
   "source": [
    "# UA = 15429 kcal/h°C calculado anteriormente\n",
    "UA = UA * 0.9**0.8\n",
    "\n",
    "print(f'UA = {UA:,.0f} kcal')"
   ]
  },
  {
   "cell_type": "markdown",
   "metadata": {},
   "source": [
    "Entonces, $NTU$ vale:"
   ]
  },
  {
   "cell_type": "code",
   "execution_count": 34,
   "metadata": {},
   "outputs": [
    {
     "name": "stdout",
     "output_type": "stream",
     "text": [
      "NTU = 3.94\n"
     ]
    }
   ],
   "source": [
    "NTU = UA / G_leche\n",
    "\n",
    "print(f'NTU = {NTU:.2f}')"
   ]
  },
  {
   "cell_type": "code",
   "execution_count": 35,
   "metadata": {},
   "outputs": [
    {
     "name": "stdout",
     "output_type": "stream",
     "text": [
      "eff = 79.8%\n"
     ]
    }
   ],
   "source": [
    "eff = NTU / (1 + NTU)\n",
    "\n",
    "print(f'eff = {eff:.1%}')"
   ]
  },
  {
   "cell_type": "code",
   "execution_count": 36,
   "metadata": {},
   "outputs": [
    {
     "name": "stdout",
     "output_type": "stream",
     "text": [
      "q_regenerativo = 193,938 kcal/h\n"
     ]
    }
   ],
   "source": [
    "q_max = G_leche * (T4 - T1)\n",
    "\n",
    "q_regenerativo = eff * q_max\n",
    "\n",
    "print(f'q_regenerativo = {q_regenerativo:,.0f} kcal/h')"
   ]
  },
  {
   "cell_type": "code",
   "execution_count": 37,
   "metadata": {},
   "outputs": [
    {
     "name": "stdout",
     "output_type": "stream",
     "text": [
      "T2 = 57.9 °C\n"
     ]
    }
   ],
   "source": [
    "T2 = T1 + q_regenerativo / G_leche\n",
    "\n",
    "print(f'T2 = {T2:.1f} °C')"
   ]
  },
  {
   "cell_type": "markdown",
   "metadata": {},
   "source": [
    "#### Cálculo de la nueva temperatura de entrada del agua en el calentador\n",
    "Se desprecia la variación en $T_s$.  \n",
    "Para el nuevo coeficiente de convección de la leche se tiene:"
   ]
  },
  {
   "cell_type": "code",
   "execution_count": 38,
   "metadata": {},
   "outputs": [],
   "source": [
    "# h_leche = 3433 kcal/hm^2°C (Calculado anteriormente)\n",
    "h_leche = h_leche * 0.9**0.8"
   ]
  },
  {
   "cell_type": "code",
   "execution_count": 39,
   "metadata": {},
   "outputs": [
    {
     "name": "stdout",
     "output_type": "stream",
     "text": [
      "U_calentador = 1,821 kcal/hm^2°C\n"
     ]
    }
   ],
   "source": [
    "U_calentador = (h_leche**-1 + h_ext**-1)**-1\n",
    "\n",
    "print(f'U_calentador = {U_calentador:,.0f} kcal/hm^2°C')"
   ]
  },
  {
   "cell_type": "markdown",
   "metadata": {},
   "source": [
    "Utilizando este valor para $U$ y el valor del área de intercambio del calentador calculado anteriormente podemos calcular los $NTU$:"
   ]
  },
  {
   "cell_type": "code",
   "execution_count": 40,
   "metadata": {},
   "outputs": [
    {
     "name": "stdout",
     "output_type": "stream",
     "text": [
      "Cr = 0.67\n"
     ]
    }
   ],
   "source": [
    "Cr = G_leche / G_agua\n",
    "\n",
    "print(f'Cr = {Cr:.2f}')"
   ]
  },
  {
   "cell_type": "code",
   "execution_count": 41,
   "metadata": {},
   "outputs": [
    {
     "name": "stdout",
     "output_type": "stream",
     "text": [
      "NTU = 0.80\n"
     ]
    }
   ],
   "source": [
    "NTU = U_calentador * A_total / G_leche\n",
    "\n",
    "print(f'NTU = {NTU:.2f}')"
   ]
  },
  {
   "cell_type": "markdown",
   "metadata": {},
   "source": [
    "De la fórmula del Incropera para la eficiencia de un intercambiador de tubos y carcasa con un pase en carcasa:"
   ]
  },
  {
   "cell_type": "code",
   "execution_count": 42,
   "metadata": {},
   "outputs": [
    {
     "name": "stdout",
     "output_type": "stream",
     "text": [
      "eff = 46.0%\n"
     ]
    }
   ],
   "source": [
    "# Variables auxiliares\n",
    "E = (1 + Cr**2)**(1/2)\n",
    "F = exp(-NTU * E)\n",
    "\n",
    "eff = 2 * (1 + Cr + E * (1 + F) / (1 - F))**-1\n",
    "\n",
    "print(f'eff = {eff:.1%}')"
   ]
  },
  {
   "cell_type": "markdown",
   "metadata": {},
   "source": [
    "De la eficiencia y las temperaturas de la leche, podemos calcular la nueva temperatura de entrada del agua:"
   ]
  },
  {
   "cell_type": "code",
   "execution_count": 43,
   "metadata": {},
   "outputs": [
    {
     "name": "stdout",
     "output_type": "stream",
     "text": [
      "Te_agua = 88.6 °C\n"
     ]
    }
   ],
   "source": [
    "q_calentador = G_leche * (T3 - T2)\n",
    "\n",
    "q_max_calentador = q_calentador / eff\n",
    "\n",
    "Te_agua = T2 + q_max_calentador / G_leche\n",
    "\n",
    "print(f'Te_agua = {Te_agua:.1f} °C')"
   ]
  },
  {
   "cell_type": "markdown",
   "metadata": {},
   "source": [
    "La temperatura del agua caliente se mantiene igual.  "
   ]
  }
 ],
 "metadata": {
  "kernelspec": {
   "display_name": "Python 3",
   "language": "python",
   "name": "python3"
  },
  "language_info": {
   "codemirror_mode": {
    "name": "ipython",
    "version": 3
   },
   "file_extension": ".py",
   "mimetype": "text/x-python",
   "name": "python",
   "nbconvert_exporter": "python",
   "pygments_lexer": "ipython3",
   "version": "3.7.1"
  }
 },
 "nbformat": 4,
 "nbformat_minor": 4
}
